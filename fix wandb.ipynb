{
 "cells": [
  {
   "cell_type": "code",
   "execution_count": 14,
   "metadata": {},
   "outputs": [],
   "source": [
    "import wandb"
   ]
  },
  {
   "cell_type": "code",
   "execution_count": 30,
   "metadata": {},
   "outputs": [],
   "source": [
    "api = wandb.Api()\n",
    "runs = api.runs(\"user_nameame/project_name\")\n"
   ]
  },
  {
   "cell_type": "code",
   "execution_count": null,
   "metadata": {},
   "outputs": [],
   "source": [
    "for i, run in enumerate(runs):\n",
    "    if i % 100 == 0:\n",
    "        print(i)\n",
    "    if \"init_epsilon\" in run.config and run.config[\"init_epsilon\"] is None:\n",
    "        run.config[\"init_epsilon\"] = 1.0\n",
    "        run.update()\n"
   ]
  },
  {
   "cell_type": "code",
   "execution_count": 31,
   "metadata": {},
   "outputs": [
    {
     "name": "stdout",
     "output_type": "stream",
     "text": [
      "19\n"
     ]
    }
   ],
   "source": [
    "api = wandb.Api()\n",
    "runs = api.runs(\"user_namel/off_policy_gflownets_paper\")\n",
    "crashed_configs = []\n",
    "for i, run in enumerate(runs):\n",
    "    if run.state == \"crashed\" and \"config_id\" in run.config:\n",
    "        crashed_configs.append(run.config['config_id'])\n",
    "print(len(crashed_configs))"
   ]
  },
  {
   "cell_type": "code",
   "execution_count": 32,
   "metadata": {},
   "outputs": [],
   "source": [
    "# write the crashed_configs to a file\n",
    "with open(\"configs/crashed_configs\", \"w+\") as f:\n",
    "    for config in crashed_configs:\n",
    "        f.write(str(config) + \"\\n\")"
   ]
  },
  {
   "cell_type": "code",
   "execution_count": null,
   "metadata": {},
   "outputs": [],
   "source": []
  }
 ],
 "metadata": {
  "kernelspec": {
   "display_name": "Python 3.10.0 ('gfn')",
   "language": "python",
   "name": "python3"
  },
  "language_info": {
   "codemirror_mode": {
    "name": "ipython",
    "version": 3
   },
   "file_extension": ".py",
   "mimetype": "text/x-python",
   "name": "python",
   "nbconvert_exporter": "python",
   "pygments_lexer": "ipython3",
   "version": "3.10.0"
  },
  "orig_nbformat": 4,
  "vscode": {
   "interpreter": {
    "hash": "434788b4d2947960d750fc4efc31c36e5cad0a4a7497510026bff955188002ed"
   }
  }
 },
 "nbformat": 4,
 "nbformat_minor": 2
}
