{
 "cells": [
  {
   "cell_type": "code",
   "execution_count": 1,
   "metadata": {},
   "outputs": [],
   "source": [
    "import wandb\n",
    "import pandas"
   ]
  },
  {
   "cell_type": "code",
   "execution_count": 2,
   "metadata": {},
   "outputs": [],
   "source": [
    "api = wandb.Api()\n",
    "runs = api.runs(\"saleml/off_policy_gflownets\")"
   ]
  },
  {
   "cell_type": "code",
   "execution_count": 3,
   "metadata": {},
   "outputs": [],
   "source": [
    "interesting_runs = []\n",
    "for run in runs:\n",
    "    if 'best' in run.name:\n",
    "        interesting_runs.append(run)\n",
    "        # run.file(\"model.pt\").download(replace=True)"
   ]
  },
  {
   "cell_type": "code",
   "execution_count": 9,
   "metadata": {},
   "outputs": [
    {
     "data": {
      "text/html": [
       "<div>\n",
       "<style scoped>\n",
       "    .dataframe tbody tr th:only-of-type {\n",
       "        vertical-align: middle;\n",
       "    }\n",
       "\n",
       "    .dataframe tbody tr th {\n",
       "        vertical-align: top;\n",
       "    }\n",
       "\n",
       "    .dataframe thead th {\n",
       "        text-align: right;\n",
       "    }\n",
       "</style>\n",
       "<table border=\"1\" class=\"dataframe\">\n",
       "  <thead>\n",
       "    <tr style=\"text-align: right;\">\n",
       "      <th></th>\n",
       "      <th>states_visited</th>\n",
       "      <th>jsd</th>\n",
       "      <th>modes_found</th>\n",
       "    </tr>\n",
       "  </thead>\n",
       "  <tbody>\n",
       "    <tr>\n",
       "      <th>0</th>\n",
       "      <td>64</td>\n",
       "      <td>NaN</td>\n",
       "      <td>1</td>\n",
       "    </tr>\n",
       "    <tr>\n",
       "      <th>1</th>\n",
       "      <td>6464</td>\n",
       "      <td>0.306398</td>\n",
       "      <td>2</td>\n",
       "    </tr>\n",
       "    <tr>\n",
       "      <th>2</th>\n",
       "      <td>12864</td>\n",
       "      <td>0.28868</td>\n",
       "      <td>2</td>\n",
       "    </tr>\n",
       "    <tr>\n",
       "      <th>3</th>\n",
       "      <td>19264</td>\n",
       "      <td>0.24542</td>\n",
       "      <td>2</td>\n",
       "    </tr>\n",
       "    <tr>\n",
       "      <th>4</th>\n",
       "      <td>25664</td>\n",
       "      <td>0.23758</td>\n",
       "      <td>2</td>\n",
       "    </tr>\n",
       "    <tr>\n",
       "      <th>...</th>\n",
       "      <td>...</td>\n",
       "      <td>...</td>\n",
       "      <td>...</td>\n",
       "    </tr>\n",
       "    <tr>\n",
       "      <th>76</th>\n",
       "      <td>486464</td>\n",
       "      <td>0.002435</td>\n",
       "      <td>4</td>\n",
       "    </tr>\n",
       "    <tr>\n",
       "      <th>77</th>\n",
       "      <td>492864</td>\n",
       "      <td>0.002453</td>\n",
       "      <td>4</td>\n",
       "    </tr>\n",
       "    <tr>\n",
       "      <th>78</th>\n",
       "      <td>499264</td>\n",
       "      <td>0.002447</td>\n",
       "      <td>4</td>\n",
       "    </tr>\n",
       "    <tr>\n",
       "      <th>79</th>\n",
       "      <td>505664</td>\n",
       "      <td>0.002474</td>\n",
       "      <td>4</td>\n",
       "    </tr>\n",
       "    <tr>\n",
       "      <th>80</th>\n",
       "      <td>512064</td>\n",
       "      <td>0.002434</td>\n",
       "      <td>4</td>\n",
       "    </tr>\n",
       "  </tbody>\n",
       "</table>\n",
       "<p>81 rows × 3 columns</p>\n",
       "</div>"
      ],
      "text/plain": [
       "    states_visited       jsd  modes_found\n",
       "0               64       NaN            1\n",
       "1             6464  0.306398            2\n",
       "2            12864   0.28868            2\n",
       "3            19264   0.24542            2\n",
       "4            25664   0.23758            2\n",
       "..             ...       ...          ...\n",
       "76          486464  0.002435            4\n",
       "77          492864  0.002453            4\n",
       "78          499264  0.002447            4\n",
       "79          505664  0.002474            4\n",
       "80          512064  0.002434            4\n",
       "\n",
       "[81 rows x 3 columns]"
      ]
     },
     "execution_count": 9,
     "metadata": {},
     "output_type": "execute_result"
    }
   ],
   "source": [
    "interesting_runs[0].history()[['states_visited', 'jsd', 'modes_found']]"
   ]
  },
  {
   "cell_type": "code",
   "execution_count": 10,
   "metadata": {},
   "outputs": [
    {
     "data": {
      "text/plain": [
       "['best-on-policy-rws',\n",
       " 'best-on-policy-forward-kl',\n",
       " 'best-on-policy-reverse-rws',\n",
       " 'best-on-policy-reverse-kl',\n",
       " 'best-on-policy-tb',\n",
       " 'best-on-policy-modified-db',\n",
       " 'best-off-policy-tb']"
      ]
     },
     "execution_count": 10,
     "metadata": {},
     "output_type": "execute_result"
    }
   ],
   "source": [
    "[run.name for run in interesting_runs]"
   ]
  },
  {
   "cell_type": "code",
   "execution_count": 8,
   "metadata": {},
   "outputs": [
    {
     "data": {
      "text/html": [
       "<div>\n",
       "<style scoped>\n",
       "    .dataframe tbody tr th:only-of-type {\n",
       "        vertical-align: middle;\n",
       "    }\n",
       "\n",
       "    .dataframe tbody tr th {\n",
       "        vertical-align: top;\n",
       "    }\n",
       "\n",
       "    .dataframe thead th {\n",
       "        text-align: right;\n",
       "    }\n",
       "</style>\n",
       "<table border=\"1\" class=\"dataframe\">\n",
       "  <thead>\n",
       "    <tr style=\"text-align: right;\">\n",
       "      <th></th>\n",
       "      <th>jsd</th>\n",
       "      <th>modes_found</th>\n",
       "      <th>jsd</th>\n",
       "      <th>modes_found</th>\n",
       "      <th>jsd</th>\n",
       "      <th>modes_found</th>\n",
       "      <th>jsd</th>\n",
       "      <th>modes_found</th>\n",
       "      <th>jsd</th>\n",
       "      <th>modes_found</th>\n",
       "      <th>jsd</th>\n",
       "      <th>modes_found</th>\n",
       "      <th>jsd</th>\n",
       "      <th>modes_found</th>\n",
       "    </tr>\n",
       "  </thead>\n",
       "  <tbody>\n",
       "    <tr>\n",
       "      <th>0</th>\n",
       "      <td>NaN</td>\n",
       "      <td>1.0</td>\n",
       "      <td>NaN</td>\n",
       "      <td>1.0</td>\n",
       "      <td>NaN</td>\n",
       "      <td>1.0</td>\n",
       "      <td>NaN</td>\n",
       "      <td>1.0</td>\n",
       "      <td>NaN</td>\n",
       "      <td>1</td>\n",
       "      <td>NaN</td>\n",
       "      <td>1.0</td>\n",
       "      <td>NaN</td>\n",
       "      <td>0.0</td>\n",
       "    </tr>\n",
       "    <tr>\n",
       "      <th>1</th>\n",
       "      <td>0.306398</td>\n",
       "      <td>2.0</td>\n",
       "      <td>0.379514</td>\n",
       "      <td>1.0</td>\n",
       "      <td>0.389871</td>\n",
       "      <td>1.0</td>\n",
       "      <td>0.437231</td>\n",
       "      <td>1.0</td>\n",
       "      <td>0.409996</td>\n",
       "      <td>1</td>\n",
       "      <td>0.405466</td>\n",
       "      <td>1.0</td>\n",
       "      <td>0.526402</td>\n",
       "      <td>0.0</td>\n",
       "    </tr>\n",
       "    <tr>\n",
       "      <th>2</th>\n",
       "      <td>0.28868</td>\n",
       "      <td>2.0</td>\n",
       "      <td>0.323994</td>\n",
       "      <td>1.0</td>\n",
       "      <td>0.38409</td>\n",
       "      <td>1.0</td>\n",
       "      <td>0.432721</td>\n",
       "      <td>1.0</td>\n",
       "      <td>0.394559</td>\n",
       "      <td>1</td>\n",
       "      <td>0.380654</td>\n",
       "      <td>1.0</td>\n",
       "      <td>0.395692</td>\n",
       "      <td>0.0</td>\n",
       "    </tr>\n",
       "    <tr>\n",
       "      <th>3</th>\n",
       "      <td>0.24542</td>\n",
       "      <td>2.0</td>\n",
       "      <td>0.245338</td>\n",
       "      <td>1.0</td>\n",
       "      <td>0.38176</td>\n",
       "      <td>1.0</td>\n",
       "      <td>0.40868</td>\n",
       "      <td>1.0</td>\n",
       "      <td>0.370306</td>\n",
       "      <td>1</td>\n",
       "      <td>0.371884</td>\n",
       "      <td>1.0</td>\n",
       "      <td>0.342722</td>\n",
       "      <td>1.0</td>\n",
       "    </tr>\n",
       "    <tr>\n",
       "      <th>4</th>\n",
       "      <td>0.23758</td>\n",
       "      <td>2.0</td>\n",
       "      <td>0.102749</td>\n",
       "      <td>3.0</td>\n",
       "      <td>0.381115</td>\n",
       "      <td>1.0</td>\n",
       "      <td>0.401884</td>\n",
       "      <td>1.0</td>\n",
       "      <td>0.360348</td>\n",
       "      <td>1</td>\n",
       "      <td>0.367676</td>\n",
       "      <td>1.0</td>\n",
       "      <td>0.273531</td>\n",
       "      <td>1.0</td>\n",
       "    </tr>\n",
       "    <tr>\n",
       "      <th>...</th>\n",
       "      <td>...</td>\n",
       "      <td>...</td>\n",
       "      <td>...</td>\n",
       "      <td>...</td>\n",
       "      <td>...</td>\n",
       "      <td>...</td>\n",
       "      <td>...</td>\n",
       "      <td>...</td>\n",
       "      <td>...</td>\n",
       "      <td>...</td>\n",
       "      <td>...</td>\n",
       "      <td>...</td>\n",
       "      <td>...</td>\n",
       "      <td>...</td>\n",
       "    </tr>\n",
       "    <tr>\n",
       "      <th>128</th>\n",
       "      <td>NaN</td>\n",
       "      <td>NaN</td>\n",
       "      <td>NaN</td>\n",
       "      <td>NaN</td>\n",
       "      <td>NaN</td>\n",
       "      <td>NaN</td>\n",
       "      <td>NaN</td>\n",
       "      <td>NaN</td>\n",
       "      <td>0.000759</td>\n",
       "      <td>4</td>\n",
       "      <td>NaN</td>\n",
       "      <td>NaN</td>\n",
       "      <td>NaN</td>\n",
       "      <td>NaN</td>\n",
       "    </tr>\n",
       "    <tr>\n",
       "      <th>129</th>\n",
       "      <td>NaN</td>\n",
       "      <td>NaN</td>\n",
       "      <td>NaN</td>\n",
       "      <td>NaN</td>\n",
       "      <td>NaN</td>\n",
       "      <td>NaN</td>\n",
       "      <td>NaN</td>\n",
       "      <td>NaN</td>\n",
       "      <td>0.000825</td>\n",
       "      <td>4</td>\n",
       "      <td>NaN</td>\n",
       "      <td>NaN</td>\n",
       "      <td>NaN</td>\n",
       "      <td>NaN</td>\n",
       "    </tr>\n",
       "    <tr>\n",
       "      <th>130</th>\n",
       "      <td>NaN</td>\n",
       "      <td>NaN</td>\n",
       "      <td>NaN</td>\n",
       "      <td>NaN</td>\n",
       "      <td>NaN</td>\n",
       "      <td>NaN</td>\n",
       "      <td>NaN</td>\n",
       "      <td>NaN</td>\n",
       "      <td>0.000825</td>\n",
       "      <td>4</td>\n",
       "      <td>NaN</td>\n",
       "      <td>NaN</td>\n",
       "      <td>NaN</td>\n",
       "      <td>NaN</td>\n",
       "    </tr>\n",
       "    <tr>\n",
       "      <th>131</th>\n",
       "      <td>NaN</td>\n",
       "      <td>NaN</td>\n",
       "      <td>NaN</td>\n",
       "      <td>NaN</td>\n",
       "      <td>NaN</td>\n",
       "      <td>NaN</td>\n",
       "      <td>NaN</td>\n",
       "      <td>NaN</td>\n",
       "      <td>0.000743</td>\n",
       "      <td>4</td>\n",
       "      <td>NaN</td>\n",
       "      <td>NaN</td>\n",
       "      <td>NaN</td>\n",
       "      <td>NaN</td>\n",
       "    </tr>\n",
       "    <tr>\n",
       "      <th>132</th>\n",
       "      <td>NaN</td>\n",
       "      <td>NaN</td>\n",
       "      <td>NaN</td>\n",
       "      <td>NaN</td>\n",
       "      <td>NaN</td>\n",
       "      <td>NaN</td>\n",
       "      <td>NaN</td>\n",
       "      <td>NaN</td>\n",
       "      <td>0.000715</td>\n",
       "      <td>4</td>\n",
       "      <td>NaN</td>\n",
       "      <td>NaN</td>\n",
       "      <td>NaN</td>\n",
       "      <td>NaN</td>\n",
       "    </tr>\n",
       "  </tbody>\n",
       "</table>\n",
       "<p>133 rows × 14 columns</p>\n",
       "</div>"
      ],
      "text/plain": [
       "          jsd  modes_found       jsd  modes_found       jsd  modes_found  \\\n",
       "0         NaN          1.0       NaN          1.0       NaN          1.0   \n",
       "1    0.306398          2.0  0.379514          1.0  0.389871          1.0   \n",
       "2     0.28868          2.0  0.323994          1.0   0.38409          1.0   \n",
       "3     0.24542          2.0  0.245338          1.0   0.38176          1.0   \n",
       "4     0.23758          2.0  0.102749          3.0  0.381115          1.0   \n",
       "..        ...          ...       ...          ...       ...          ...   \n",
       "128       NaN          NaN       NaN          NaN       NaN          NaN   \n",
       "129       NaN          NaN       NaN          NaN       NaN          NaN   \n",
       "130       NaN          NaN       NaN          NaN       NaN          NaN   \n",
       "131       NaN          NaN       NaN          NaN       NaN          NaN   \n",
       "132       NaN          NaN       NaN          NaN       NaN          NaN   \n",
       "\n",
       "          jsd  modes_found       jsd  modes_found       jsd  modes_found  \\\n",
       "0         NaN          1.0       NaN            1       NaN          1.0   \n",
       "1    0.437231          1.0  0.409996            1  0.405466          1.0   \n",
       "2    0.432721          1.0  0.394559            1  0.380654          1.0   \n",
       "3     0.40868          1.0  0.370306            1  0.371884          1.0   \n",
       "4    0.401884          1.0  0.360348            1  0.367676          1.0   \n",
       "..        ...          ...       ...          ...       ...          ...   \n",
       "128       NaN          NaN  0.000759            4       NaN          NaN   \n",
       "129       NaN          NaN  0.000825            4       NaN          NaN   \n",
       "130       NaN          NaN  0.000825            4       NaN          NaN   \n",
       "131       NaN          NaN  0.000743            4       NaN          NaN   \n",
       "132       NaN          NaN  0.000715            4       NaN          NaN   \n",
       "\n",
       "          jsd  modes_found  \n",
       "0         NaN          0.0  \n",
       "1    0.526402          0.0  \n",
       "2    0.395692          0.0  \n",
       "3    0.342722          1.0  \n",
       "4    0.273531          1.0  \n",
       "..        ...          ...  \n",
       "128       NaN          NaN  \n",
       "129       NaN          NaN  \n",
       "130       NaN          NaN  \n",
       "131       NaN          NaN  \n",
       "132       NaN          NaN  \n",
       "\n",
       "[133 rows x 14 columns]"
      ]
     },
     "execution_count": 8,
     "metadata": {},
     "output_type": "execute_result"
    }
   ],
   "source": [
    "pandas.concat([run.history()[['jsd', 'modes_found']] for run in interesting_runs], axis=1)"
   ]
  },
  {
   "cell_type": "code",
   "execution_count": 11,
   "metadata": {},
   "outputs": [],
   "source": [
    "def rename_columns_and_concat(dfs, names, columns):\n",
    "    for df, name in zip(dfs, names):\n",
    "        df.columns = [name + '_' + col for col in columns]\n",
    "    return pandas.concat(dfs, axis=1)"
   ]
  },
  {
   "cell_type": "code",
   "execution_count": 13,
   "metadata": {},
   "outputs": [],
   "source": [
    "df = rename_columns_and_concat([run.history()[['states_visited', 'jsd', 'modes_found']] for run in interesting_runs],\n",
    " [run.name for run in interesting_runs],\n",
    "  ['states_visited', 'jsd', 'modes_found'])"
   ]
  },
  {
   "cell_type": "code",
   "execution_count": 68,
   "metadata": {},
   "outputs": [
    {
     "data": {
      "image/png": "[encoded data removed]",
      "text/plain": [
       "<Figure size 640x480 with 1 Axes>"
      ]
     },
     "metadata": {},
     "output_type": "display_data"
    }
   ],
   "source": [
    "import matplotlib.pyplot as plt\n",
    "for run in interesting_runs:\n",
    "    plt.semilogy(run.history()['states_visited'], run.history()['jsd'].astype(float).fillna(1), label=run.name)\n",
    "plt.legend()\n",
    "plt.savefig('JSD_vs_n_trajectories.png')"
   ]
  },
  {
   "cell_type": "code",
   "execution_count": 18,
   "metadata": {},
   "outputs": [
    {
     "data": {
      "text/plain": [
       "0     1.000000\n",
       "1     0.306398\n",
       "2     0.288680\n",
       "3     0.245420\n",
       "4     0.237580\n",
       "        ...   \n",
       "76    0.002435\n",
       "77    0.002453\n",
       "78    0.002447\n",
       "79    0.002474\n",
       "80    0.002434\n",
       "Name: jsd, Length: 81, dtype: float64"
      ]
     },
     "execution_count": 18,
     "metadata": {},
     "output_type": "execute_result"
    }
   ],
   "source": [
    "run.history()['jsd'].astype(float).fillna(1)"
   ]
  },
  {
   "cell_type": "code",
   "execution_count": 22,
   "metadata": {},
   "outputs": [],
   "source": [
    "df.to_csv('wandb_data_23-09-12-38.csv')"
   ]
  },
  {
   "cell_type": "code",
   "execution_count": 26,
   "metadata": {},
   "outputs": [
    {
     "data": {
      "text/plain": [
       "['QUERY',\n",
       " '__class__',\n",
       " '__delattr__',\n",
       " '__dict__',\n",
       " '__dir__',\n",
       " '__doc__',\n",
       " '__eq__',\n",
       " '__format__',\n",
       " '__ge__',\n",
       " '__getattribute__',\n",
       " '__getitem__',\n",
       " '__gt__',\n",
       " '__hash__',\n",
       " '__init__',\n",
       " '__init_subclass__',\n",
       " '__iter__',\n",
       " '__le__',\n",
       " '__len__',\n",
       " '__lt__',\n",
       " '__module__',\n",
       " '__ne__',\n",
       " '__new__',\n",
       " '__next__',\n",
       " '__reduce__',\n",
       " '__reduce_ex__',\n",
       " '__repr__',\n",
       " '__setattr__',\n",
       " '__sizeof__',\n",
       " '__str__',\n",
       " '__subclasshook__',\n",
       " '__weakref__',\n",
       " '_load_page',\n",
       " 'client',\n",
       " 'convert_objects',\n",
       " 'cursor',\n",
       " 'index',\n",
       " 'last_response',\n",
       " 'length',\n",
       " 'more',\n",
       " 'next',\n",
       " 'objects',\n",
       " 'per_page',\n",
       " 'run',\n",
       " 'update_variables',\n",
       " 'variables']"
      ]
     },
     "execution_count": 26,
     "metadata": {},
     "output_type": "execute_result"
    }
   ],
   "source": [
    "dir(run.files())"
   ]
  },
  {
   "cell_type": "code",
   "execution_count": 54,
   "metadata": {},
   "outputs": [
    {
     "data": {
      "text/plain": [
       "'media/images/P_T_700_1f384fd85acb19a0306b.png'"
      ]
     },
     "execution_count": 54,
     "metadata": {},
     "output_type": "execute_result"
    }
   ],
   "source": [
    "run.files()[len(run.files()) - 4].name"
   ]
  },
  {
   "cell_type": "code",
   "execution_count": 55,
   "metadata": {},
   "outputs": [
    {
     "data": {
      "text/plain": [
       "68"
      ]
     },
     "execution_count": 55,
     "metadata": {},
     "output_type": "execute_result"
    }
   ],
   "source": [
    "len(run.history()['P_T'])"
   ]
  },
  {
   "cell_type": "code",
   "execution_count": 66,
   "metadata": {},
   "outputs": [
    {
     "name": "stdout",
     "output_type": "stream",
     "text": [
      "8000\n",
      "10200\n",
      "7400\n",
      "6800\n",
      "13200\n",
      "10600\n",
      "6700\n"
     ]
    }
   ],
   "source": [
    "for run in interesting_runs:\n",
    "    iteration = max([int(x['path'].split('P_T_')[1].split('_')[0]) for x in run.history()['P_T'].values])\n",
    "    print(run.name, iteration)\n",
    "    for file in run.files():\n",
    "        if 'P_T' in file.name and str(iteration) in file.name:\n",
    "            file.download(replace=True)"
   ]
  },
  {
   "cell_type": "code",
   "execution_count": 67,
   "metadata": {},
   "outputs": [
    {
     "name": "stdout",
     "output_type": "stream",
     "text": [
      "best-on-policy-rws 8000\n",
      "best-on-policy-forward-kl 10200\n",
      "best-on-policy-reverse-rws 7400\n",
      "best-on-policy-reverse-kl 6800\n",
      "best-on-policy-tb 13200\n",
      "best-on-policy-modified-db 10600\n",
      "best-off-policy-tb 6700\n"
     ]
    }
   ],
   "source": [
    "for run in interesting_runs:\n",
    "    iteration = max([int(x['path'].split('P_T_')[1].split('_')[0]) for x in run.history()['P_T'].values])\n",
    "    print(run.name, iteration)\n"
   ]
  },
  {
   "cell_type": "code",
   "execution_count": null,
   "metadata": {},
   "outputs": [],
   "source": []
  }
 ],
 "metadata": {
  "kernelspec": {
   "display_name": "Python 3.10.0 ('gfn')",
   "language": "python",
   "name": "python3"
  },
  "language_info": {
   "codemirror_mode": {
    "name": "ipython",
    "version": 3
   },
   "file_extension": ".py",
   "mimetype": "text/x-python",
   "name": "python",
   "nbconvert_exporter": "python",
   "pygments_lexer": "ipython3",
   "version": "3.10.0"
  },
  "orig_nbformat": 4,
  "vscode": {
   "interpreter": {
    "hash": "434788b4d2947960d750fc4efc31c36e5cad0a4a7497510026bff955188002ed"
   }
  }
 },
 "nbformat": 4,
 "nbformat_minor": 2
}
